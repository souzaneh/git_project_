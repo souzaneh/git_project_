{
  "cells": [
    {
      "cell_type": "markdown",
      "metadata": {
        "id": "view-in-github",
        "colab_type": "text"
      },
      "source": [
        "<a href=\"https://colab.research.google.com/github/souzaneh/git_project_/blob/main/Trade_App_Project.ipynb\" target=\"_parent\"><img src=\"https://colab.research.google.com/assets/colab-badge.svg\" alt=\"Open In Colab\"/></a>"
      ]
    },
    {
      "cell_type": "markdown",
      "source": [
        "# import liberary  // data _prepration"
      ],
      "metadata": {
        "id": "ab251CwzPkAC"
      }
    },
    {
      "cell_type": "code",
      "execution_count": 2,
      "metadata": {
        "id": "5NmzTCZIMxOj"
      },
      "outputs": [],
      "source": [
        "import tensorflow as tf\n",
        "import numpy as np\n",
        "import pandas as pd\n",
        "import matplotlib.pyplot as plt\n",
        "from sklearn.preprocessing import MinMaxScaler\n",
        "\n",
        "from keras.models import Sequential\n",
        "from keras.layers import Dense, SimpleRNN,LSTM, GRU"
      ]
    },
    {
      "cell_type": "code",
      "execution_count": 3,
      "metadata": {
        "colab": {
          "base_uri": "https://localhost:8080/"
        },
        "id": "gG0NBwY6M8tR",
        "outputId": "c4b8a4ad-1ea9-4d37-d652-63e7bbaab807",
        "collapsed": true
      },
      "outputs": [
        {
          "output_type": "stream",
          "name": "stdout",
          "text": [
            "Requirement already satisfied: yfinance in /usr/local/lib/python3.11/dist-packages (0.2.54)\n",
            "Requirement already satisfied: pandas>=1.3.0 in /usr/local/lib/python3.11/dist-packages (from yfinance) (2.2.2)\n",
            "Requirement already satisfied: numpy>=1.16.5 in /usr/local/lib/python3.11/dist-packages (from yfinance) (1.26.4)\n",
            "Requirement already satisfied: requests>=2.31 in /usr/local/lib/python3.11/dist-packages (from yfinance) (2.32.3)\n",
            "Requirement already satisfied: multitasking>=0.0.7 in /usr/local/lib/python3.11/dist-packages (from yfinance) (0.0.11)\n",
            "Requirement already satisfied: platformdirs>=2.0.0 in /usr/local/lib/python3.11/dist-packages (from yfinance) (4.3.6)\n",
            "Requirement already satisfied: pytz>=2022.5 in /usr/local/lib/python3.11/dist-packages (from yfinance) (2025.1)\n",
            "Requirement already satisfied: frozendict>=2.3.4 in /usr/local/lib/python3.11/dist-packages (from yfinance) (2.4.6)\n",
            "Requirement already satisfied: peewee>=3.16.2 in /usr/local/lib/python3.11/dist-packages (from yfinance) (3.17.9)\n",
            "Requirement already satisfied: beautifulsoup4>=4.11.1 in /usr/local/lib/python3.11/dist-packages (from yfinance) (4.13.3)\n",
            "Requirement already satisfied: soupsieve>1.2 in /usr/local/lib/python3.11/dist-packages (from beautifulsoup4>=4.11.1->yfinance) (2.6)\n",
            "Requirement already satisfied: typing-extensions>=4.0.0 in /usr/local/lib/python3.11/dist-packages (from beautifulsoup4>=4.11.1->yfinance) (4.12.2)\n",
            "Requirement already satisfied: python-dateutil>=2.8.2 in /usr/local/lib/python3.11/dist-packages (from pandas>=1.3.0->yfinance) (2.8.2)\n",
            "Requirement already satisfied: tzdata>=2022.7 in /usr/local/lib/python3.11/dist-packages (from pandas>=1.3.0->yfinance) (2025.1)\n",
            "Requirement already satisfied: charset-normalizer<4,>=2 in /usr/local/lib/python3.11/dist-packages (from requests>=2.31->yfinance) (3.4.1)\n",
            "Requirement already satisfied: idna<4,>=2.5 in /usr/local/lib/python3.11/dist-packages (from requests>=2.31->yfinance) (3.10)\n",
            "Requirement already satisfied: urllib3<3,>=1.21.1 in /usr/local/lib/python3.11/dist-packages (from requests>=2.31->yfinance) (2.3.0)\n",
            "Requirement already satisfied: certifi>=2017.4.17 in /usr/local/lib/python3.11/dist-packages (from requests>=2.31->yfinance) (2025.1.31)\n",
            "Requirement already satisfied: six>=1.5 in /usr/local/lib/python3.11/dist-packages (from python-dateutil>=2.8.2->pandas>=1.3.0->yfinance) (1.17.0)\n"
          ]
        }
      ],
      "source": [
        "!pip install yfinance"
      ]
    },
    {
      "cell_type": "code",
      "execution_count": 4,
      "metadata": {
        "id": "sCZC4Md4NObg"
      },
      "outputs": [],
      "source": [
        "import yfinance as yf"
      ]
    },
    {
      "cell_type": "code",
      "execution_count": 18,
      "metadata": {
        "colab": {
          "base_uri": "https://localhost:8080/",
          "height": 486
        },
        "id": "wfHkSRumNMa5",
        "outputId": "f9d8fbd0-8138-433e-aa65-d679a1aa8007"
      },
      "outputs": [
        {
          "output_type": "execute_result",
          "data": {
            "text/plain": [
              "Price          Open    Close     High      Low\n",
              "Ticker        GOOGL    GOOGL    GOOGL    GOOGL\n",
              "Date                                          \n",
              "2024-11-18  173.221  175.099  175.239  172.702\n",
              "2024-11-19  173.521  177.916  178.665  173.361\n",
              "2024-11-20  177.137  175.779  177.477  173.581\n",
              "2024-11-21  173.701  167.438  173.931  163.513\n",
              "2024-11-22  165.660  164.571  166.269  163.712\n",
              "...             ...      ...      ...      ...\n",
              "2025-02-18  185.600  183.770  185.960  181.740\n",
              "2025-02-19  184.070  185.270  185.460  183.590\n",
              "2025-02-20  184.800  184.560  185.310  182.720\n",
              "2025-02-21  185.150  179.660  185.340  179.080\n",
              "2025-02-24  181.990  179.250  183.120  178.890\n",
              "\n",
              "[65 rows x 4 columns]"
            ],
            "text/html": [
              "\n",
              "  <div id=\"df-dbefc6ba-2505-40cf-8415-79c02fb386f8\" class=\"colab-df-container\">\n",
              "    <div>\n",
              "<style scoped>\n",
              "    .dataframe tbody tr th:only-of-type {\n",
              "        vertical-align: middle;\n",
              "    }\n",
              "\n",
              "    .dataframe tbody tr th {\n",
              "        vertical-align: top;\n",
              "    }\n",
              "\n",
              "    .dataframe thead tr th {\n",
              "        text-align: left;\n",
              "    }\n",
              "\n",
              "    .dataframe thead tr:last-of-type th {\n",
              "        text-align: right;\n",
              "    }\n",
              "</style>\n",
              "<table border=\"1\" class=\"dataframe\">\n",
              "  <thead>\n",
              "    <tr>\n",
              "      <th>Price</th>\n",
              "      <th>Open</th>\n",
              "      <th>Close</th>\n",
              "      <th>High</th>\n",
              "      <th>Low</th>\n",
              "    </tr>\n",
              "    <tr>\n",
              "      <th>Ticker</th>\n",
              "      <th>GOOGL</th>\n",
              "      <th>GOOGL</th>\n",
              "      <th>GOOGL</th>\n",
              "      <th>GOOGL</th>\n",
              "    </tr>\n",
              "    <tr>\n",
              "      <th>Date</th>\n",
              "      <th></th>\n",
              "      <th></th>\n",
              "      <th></th>\n",
              "      <th></th>\n",
              "    </tr>\n",
              "  </thead>\n",
              "  <tbody>\n",
              "    <tr>\n",
              "      <th>2024-11-18</th>\n",
              "      <td>173.221</td>\n",
              "      <td>175.099</td>\n",
              "      <td>175.239</td>\n",
              "      <td>172.702</td>\n",
              "    </tr>\n",
              "    <tr>\n",
              "      <th>2024-11-19</th>\n",
              "      <td>173.521</td>\n",
              "      <td>177.916</td>\n",
              "      <td>178.665</td>\n",
              "      <td>173.361</td>\n",
              "    </tr>\n",
              "    <tr>\n",
              "      <th>2024-11-20</th>\n",
              "      <td>177.137</td>\n",
              "      <td>175.779</td>\n",
              "      <td>177.477</td>\n",
              "      <td>173.581</td>\n",
              "    </tr>\n",
              "    <tr>\n",
              "      <th>2024-11-21</th>\n",
              "      <td>173.701</td>\n",
              "      <td>167.438</td>\n",
              "      <td>173.931</td>\n",
              "      <td>163.513</td>\n",
              "    </tr>\n",
              "    <tr>\n",
              "      <th>2024-11-22</th>\n",
              "      <td>165.660</td>\n",
              "      <td>164.571</td>\n",
              "      <td>166.269</td>\n",
              "      <td>163.712</td>\n",
              "    </tr>\n",
              "    <tr>\n",
              "      <th>...</th>\n",
              "      <td>...</td>\n",
              "      <td>...</td>\n",
              "      <td>...</td>\n",
              "      <td>...</td>\n",
              "    </tr>\n",
              "    <tr>\n",
              "      <th>2025-02-18</th>\n",
              "      <td>185.600</td>\n",
              "      <td>183.770</td>\n",
              "      <td>185.960</td>\n",
              "      <td>181.740</td>\n",
              "    </tr>\n",
              "    <tr>\n",
              "      <th>2025-02-19</th>\n",
              "      <td>184.070</td>\n",
              "      <td>185.270</td>\n",
              "      <td>185.460</td>\n",
              "      <td>183.590</td>\n",
              "    </tr>\n",
              "    <tr>\n",
              "      <th>2025-02-20</th>\n",
              "      <td>184.800</td>\n",
              "      <td>184.560</td>\n",
              "      <td>185.310</td>\n",
              "      <td>182.720</td>\n",
              "    </tr>\n",
              "    <tr>\n",
              "      <th>2025-02-21</th>\n",
              "      <td>185.150</td>\n",
              "      <td>179.660</td>\n",
              "      <td>185.340</td>\n",
              "      <td>179.080</td>\n",
              "    </tr>\n",
              "    <tr>\n",
              "      <th>2025-02-24</th>\n",
              "      <td>181.990</td>\n",
              "      <td>179.250</td>\n",
              "      <td>183.120</td>\n",
              "      <td>178.890</td>\n",
              "    </tr>\n",
              "  </tbody>\n",
              "</table>\n",
              "<p>65 rows × 4 columns</p>\n",
              "</div>\n",
              "    <div class=\"colab-df-buttons\">\n",
              "\n",
              "  <div class=\"colab-df-container\">\n",
              "    <button class=\"colab-df-convert\" onclick=\"convertToInteractive('df-dbefc6ba-2505-40cf-8415-79c02fb386f8')\"\n",
              "            title=\"Convert this dataframe to an interactive table.\"\n",
              "            style=\"display:none;\">\n",
              "\n",
              "  <svg xmlns=\"http://www.w3.org/2000/svg\" height=\"24px\" viewBox=\"0 -960 960 960\">\n",
              "    <path d=\"M120-120v-720h720v720H120Zm60-500h600v-160H180v160Zm220 220h160v-160H400v160Zm0 220h160v-160H400v160ZM180-400h160v-160H180v160Zm440 0h160v-160H620v160ZM180-180h160v-160H180v160Zm440 0h160v-160H620v160Z\"/>\n",
              "  </svg>\n",
              "    </button>\n",
              "\n",
              "  <style>\n",
              "    .colab-df-container {\n",
              "      display:flex;\n",
              "      gap: 12px;\n",
              "    }\n",
              "\n",
              "    .colab-df-convert {\n",
              "      background-color: #E8F0FE;\n",
              "      border: none;\n",
              "      border-radius: 50%;\n",
              "      cursor: pointer;\n",
              "      display: none;\n",
              "      fill: #1967D2;\n",
              "      height: 32px;\n",
              "      padding: 0 0 0 0;\n",
              "      width: 32px;\n",
              "    }\n",
              "\n",
              "    .colab-df-convert:hover {\n",
              "      background-color: #E2EBFA;\n",
              "      box-shadow: 0px 1px 2px rgba(60, 64, 67, 0.3), 0px 1px 3px 1px rgba(60, 64, 67, 0.15);\n",
              "      fill: #174EA6;\n",
              "    }\n",
              "\n",
              "    .colab-df-buttons div {\n",
              "      margin-bottom: 4px;\n",
              "    }\n",
              "\n",
              "    [theme=dark] .colab-df-convert {\n",
              "      background-color: #3B4455;\n",
              "      fill: #D2E3FC;\n",
              "    }\n",
              "\n",
              "    [theme=dark] .colab-df-convert:hover {\n",
              "      background-color: #434B5C;\n",
              "      box-shadow: 0px 1px 3px 1px rgba(0, 0, 0, 0.15);\n",
              "      filter: drop-shadow(0px 1px 2px rgba(0, 0, 0, 0.3));\n",
              "      fill: #FFFFFF;\n",
              "    }\n",
              "  </style>\n",
              "\n",
              "    <script>\n",
              "      const buttonEl =\n",
              "        document.querySelector('#df-dbefc6ba-2505-40cf-8415-79c02fb386f8 button.colab-df-convert');\n",
              "      buttonEl.style.display =\n",
              "        google.colab.kernel.accessAllowed ? 'block' : 'none';\n",
              "\n",
              "      async function convertToInteractive(key) {\n",
              "        const element = document.querySelector('#df-dbefc6ba-2505-40cf-8415-79c02fb386f8');\n",
              "        const dataTable =\n",
              "          await google.colab.kernel.invokeFunction('convertToInteractive',\n",
              "                                                    [key], {});\n",
              "        if (!dataTable) return;\n",
              "\n",
              "        const docLinkHtml = 'Like what you see? Visit the ' +\n",
              "          '<a target=\"_blank\" href=https://colab.research.google.com/notebooks/data_table.ipynb>data table notebook</a>'\n",
              "          + ' to learn more about interactive tables.';\n",
              "        element.innerHTML = '';\n",
              "        dataTable['output_type'] = 'display_data';\n",
              "        await google.colab.output.renderOutput(dataTable, element);\n",
              "        const docLink = document.createElement('div');\n",
              "        docLink.innerHTML = docLinkHtml;\n",
              "        element.appendChild(docLink);\n",
              "      }\n",
              "    </script>\n",
              "  </div>\n",
              "\n",
              "\n",
              "<div id=\"df-d116fe9b-16d9-411b-8ea7-60b31df491b4\">\n",
              "  <button class=\"colab-df-quickchart\" onclick=\"quickchart('df-d116fe9b-16d9-411b-8ea7-60b31df491b4')\"\n",
              "            title=\"Suggest charts\"\n",
              "            style=\"display:none;\">\n",
              "\n",
              "<svg xmlns=\"http://www.w3.org/2000/svg\" height=\"24px\"viewBox=\"0 0 24 24\"\n",
              "     width=\"24px\">\n",
              "    <g>\n",
              "        <path d=\"M19 3H5c-1.1 0-2 .9-2 2v14c0 1.1.9 2 2 2h14c1.1 0 2-.9 2-2V5c0-1.1-.9-2-2-2zM9 17H7v-7h2v7zm4 0h-2V7h2v10zm4 0h-2v-4h2v4z\"/>\n",
              "    </g>\n",
              "</svg>\n",
              "  </button>\n",
              "\n",
              "<style>\n",
              "  .colab-df-quickchart {\n",
              "      --bg-color: #E8F0FE;\n",
              "      --fill-color: #1967D2;\n",
              "      --hover-bg-color: #E2EBFA;\n",
              "      --hover-fill-color: #174EA6;\n",
              "      --disabled-fill-color: #AAA;\n",
              "      --disabled-bg-color: #DDD;\n",
              "  }\n",
              "\n",
              "  [theme=dark] .colab-df-quickchart {\n",
              "      --bg-color: #3B4455;\n",
              "      --fill-color: #D2E3FC;\n",
              "      --hover-bg-color: #434B5C;\n",
              "      --hover-fill-color: #FFFFFF;\n",
              "      --disabled-bg-color: #3B4455;\n",
              "      --disabled-fill-color: #666;\n",
              "  }\n",
              "\n",
              "  .colab-df-quickchart {\n",
              "    background-color: var(--bg-color);\n",
              "    border: none;\n",
              "    border-radius: 50%;\n",
              "    cursor: pointer;\n",
              "    display: none;\n",
              "    fill: var(--fill-color);\n",
              "    height: 32px;\n",
              "    padding: 0;\n",
              "    width: 32px;\n",
              "  }\n",
              "\n",
              "  .colab-df-quickchart:hover {\n",
              "    background-color: var(--hover-bg-color);\n",
              "    box-shadow: 0 1px 2px rgba(60, 64, 67, 0.3), 0 1px 3px 1px rgba(60, 64, 67, 0.15);\n",
              "    fill: var(--button-hover-fill-color);\n",
              "  }\n",
              "\n",
              "  .colab-df-quickchart-complete:disabled,\n",
              "  .colab-df-quickchart-complete:disabled:hover {\n",
              "    background-color: var(--disabled-bg-color);\n",
              "    fill: var(--disabled-fill-color);\n",
              "    box-shadow: none;\n",
              "  }\n",
              "\n",
              "  .colab-df-spinner {\n",
              "    border: 2px solid var(--fill-color);\n",
              "    border-color: transparent;\n",
              "    border-bottom-color: var(--fill-color);\n",
              "    animation:\n",
              "      spin 1s steps(1) infinite;\n",
              "  }\n",
              "\n",
              "  @keyframes spin {\n",
              "    0% {\n",
              "      border-color: transparent;\n",
              "      border-bottom-color: var(--fill-color);\n",
              "      border-left-color: var(--fill-color);\n",
              "    }\n",
              "    20% {\n",
              "      border-color: transparent;\n",
              "      border-left-color: var(--fill-color);\n",
              "      border-top-color: var(--fill-color);\n",
              "    }\n",
              "    30% {\n",
              "      border-color: transparent;\n",
              "      border-left-color: var(--fill-color);\n",
              "      border-top-color: var(--fill-color);\n",
              "      border-right-color: var(--fill-color);\n",
              "    }\n",
              "    40% {\n",
              "      border-color: transparent;\n",
              "      border-right-color: var(--fill-color);\n",
              "      border-top-color: var(--fill-color);\n",
              "    }\n",
              "    60% {\n",
              "      border-color: transparent;\n",
              "      border-right-color: var(--fill-color);\n",
              "    }\n",
              "    80% {\n",
              "      border-color: transparent;\n",
              "      border-right-color: var(--fill-color);\n",
              "      border-bottom-color: var(--fill-color);\n",
              "    }\n",
              "    90% {\n",
              "      border-color: transparent;\n",
              "      border-bottom-color: var(--fill-color);\n",
              "    }\n",
              "  }\n",
              "</style>\n",
              "\n",
              "  <script>\n",
              "    async function quickchart(key) {\n",
              "      const quickchartButtonEl =\n",
              "        document.querySelector('#' + key + ' button');\n",
              "      quickchartButtonEl.disabled = true;  // To prevent multiple clicks.\n",
              "      quickchartButtonEl.classList.add('colab-df-spinner');\n",
              "      try {\n",
              "        const charts = await google.colab.kernel.invokeFunction(\n",
              "            'suggestCharts', [key], {});\n",
              "      } catch (error) {\n",
              "        console.error('Error during call to suggestCharts:', error);\n",
              "      }\n",
              "      quickchartButtonEl.classList.remove('colab-df-spinner');\n",
              "      quickchartButtonEl.classList.add('colab-df-quickchart-complete');\n",
              "    }\n",
              "    (() => {\n",
              "      let quickchartButtonEl =\n",
              "        document.querySelector('#df-d116fe9b-16d9-411b-8ea7-60b31df491b4 button');\n",
              "      quickchartButtonEl.style.display =\n",
              "        google.colab.kernel.accessAllowed ? 'block' : 'none';\n",
              "    })();\n",
              "  </script>\n",
              "</div>\n",
              "    </div>\n",
              "  </div>\n"
            ],
            "application/vnd.google.colaboratory.intrinsic+json": {
              "type": "dataframe",
              "variable_name": "df",
              "summary": "{\n  \"name\": \"df\",\n  \"rows\": 65,\n  \"fields\": [\n    {\n      \"column\": [\n        \"Date\",\n        \"\"\n      ],\n      \"properties\": {\n        \"dtype\": \"date\",\n        \"min\": \"2024-11-18 00:00:00\",\n        \"max\": \"2025-02-24 00:00:00\",\n        \"num_unique_values\": 65,\n        \"samples\": [\n          \"2025-02-06 00:00:00\",\n          \"2025-02-18 00:00:00\",\n          \"2024-11-18 00:00:00\"\n        ],\n        \"semantic_type\": \"\",\n        \"description\": \"\"\n      }\n    },\n    {\n      \"column\": [\n        \"Open\",\n        \"GOOGL\"\n      ],\n      \"properties\": {\n        \"dtype\": \"number\",\n        \"std\": 10.179575555795726,\n        \"min\": 165.66,\n        \"max\": 203.39,\n        \"num_unique_values\": 65,\n        \"samples\": [\n          189.5,\n          185.6,\n          173.221\n        ],\n        \"semantic_type\": \"\",\n        \"description\": \"\"\n      }\n    },\n    {\n      \"column\": [\n        \"Close\",\n        \"GOOGL\"\n      ],\n      \"properties\": {\n        \"dtype\": \"number\",\n        \"std\": 10.286132624333824,\n        \"min\": 164.571,\n        \"max\": 206.38,\n        \"num_unique_values\": 65,\n        \"samples\": [\n          191.6,\n          183.77,\n          175.099\n        ],\n        \"semantic_type\": \"\",\n        \"description\": \"\"\n      }\n    },\n    {\n      \"column\": [\n        \"High\",\n        \"GOOGL\"\n      ],\n      \"properties\": {\n        \"dtype\": \"number\",\n        \"std\": 10.537793187065562,\n        \"min\": 166.269,\n        \"max\": 207.05,\n        \"num_unique_values\": 63,\n        \"samples\": [\n          185.34,\n          186.4,\n          175.239\n        ],\n        \"semantic_type\": \"\",\n        \"description\": \"\"\n      }\n    },\n    {\n      \"column\": [\n        \"Low\",\n        \"GOOGL\"\n      ],\n      \"properties\": {\n        \"dtype\": \"number\",\n        \"std\": 10.189788374769917,\n        \"min\": 163.513,\n        \"max\": 202.81,\n        \"num_unique_values\": 65,\n        \"samples\": [\n          188.72,\n          181.74,\n          172.702\n        ],\n        \"semantic_type\": \"\",\n        \"description\": \"\"\n      }\n    }\n  ]\n}"
            }
          },
          "metadata": {},
          "execution_count": 18
        }
      ],
      "source": [
        "\n",
        "import datetime\n",
        "# Set the end date to the current date\n",
        "now = datetime.datetime.now()\n",
        "end_date = now .strftime('%Y-%m-%d')\n",
        "start_date = (now - datetime.timedelta(days=20)).strftime('%Y-%m-%d')\n",
        "ms = yf.download('GOOGL', start=start_date , end=end_date, progress=False)\n",
        "df = ms [['Open','Close', 'High', 'Low']].round(3)\n",
        "df"
      ]
    },
    {
      "cell_type": "code",
      "source": [
        "x_step = 10\n",
        "y_step = 2\n",
        "train_ratio = 1"
      ],
      "metadata": {
        "id": "TsjK__kZSwzk"
      },
      "execution_count": 6,
      "outputs": []
    },
    {
      "cell_type": "code",
      "execution_count": 19,
      "metadata": {
        "id": "kud5RcB92kVW"
      },
      "outputs": [],
      "source": [
        "# prepration data(train/validation splite, return sequences)\n",
        "\n",
        "def sequence_data (df, x_step, y_step,train_ratio):\n",
        "\n",
        "#train/val split:\n",
        "  h = int(train_ratio*len(df))\n",
        "  train = df[: h]\n",
        "  val = df [h-(x_step+y_step):]\n",
        "\n",
        "  train_C = train.Close.values\n",
        "  val_C = val.Close.values\n",
        "  print ('train_C.shape:',train_C.shape)\n",
        "  print ('val_C.shape:',val_C.shape)\n",
        "  sc = MinMaxScaler(feature_range=(0,1))\n",
        "  train_C_s = sc.fit_transform(train_C)\n",
        "\n",
        "\n",
        "  #train sequences\n",
        "  x_seq = []\n",
        "  y_seq = []\n",
        "  for i in range(x_step, len(train_C)-y_step+1):\n",
        "    x_seq.append(train_C_s[i-x_step:i,0]) # 0: make (n,1) to (n,) shape, convert from culomn/vertically display to row/horizontally display\n",
        "    y_seq .append (train_C_s[i:i+y_step,0])\n",
        "\n",
        "  x_train= np.array(x_seq)\n",
        "  x_train = x_train .reshape(x_train.shape[0],x_train.shape[1],1)\n",
        "  y_train= np.array(y_seq)\n",
        "\n",
        "  #val sequences\n",
        "  val_C_s = sc.transform(val_C)\n",
        "  x_seq = []\n",
        "  y_seq = []\n",
        "  for i in range(x_step, len(val_C)-y_step+1):\n",
        "    x_seq.append(val_C_s[i-x_step:i,0])\n",
        "    y_seq .append (val_C_s[i:i+y_step,0])\n",
        "\n",
        "  x_val= np.array(x_seq)\n",
        "  x_val = x_val .reshape(x_val.shape[0],x_val.shape[1],1)\n",
        "  y_val= np.array(y_seq)\n",
        "\n",
        "\n",
        "  return x_train, y_train, x_val, y_val,sc,  train_C,val_C,"
      ]
    },
    {
      "cell_type": "code",
      "execution_count": 20,
      "metadata": {
        "id": "ncpweIzm9cV5",
        "colab": {
          "base_uri": "https://localhost:8080/"
        },
        "outputId": "5862eec9-624c-42db-cac1-d71f7fb9e807"
      },
      "outputs": [
        {
          "output_type": "stream",
          "name": "stdout",
          "text": [
            "train_C.shape: (65, 1)\n",
            "val_C.shape: (12, 1)\n"
          ]
        }
      ],
      "source": [
        "# prepration data(train/validation splite, return sequences)\n",
        "x_train,  y_train , x_val, y_val, sc,train_C_df,val_C_df = sequence_data(df, x_step, y_step,train_ratio)"
      ]
    },
    {
      "cell_type": "markdown",
      "metadata": {
        "id": "herjZz7OH8Eb"
      },
      "source": [
        "#predict by LSTM_GRU Model and save prediction in google drive"
      ]
    },
    {
      "cell_type": "code",
      "source": [
        "#save model and predictions\n",
        "from google.colab import drive\n",
        "drive.mount('/content/drive')\n"
      ],
      "metadata": {
        "colab": {
          "base_uri": "https://localhost:8080/"
        },
        "id": "WE8sbqgnReIu",
        "outputId": "7b66eb95-f38d-4340-ae2e-bc9b692b6842"
      },
      "execution_count": 11,
      "outputs": [
        {
          "output_type": "stream",
          "name": "stdout",
          "text": [
            "Mounted at /content/drive\n"
          ]
        }
      ]
    },
    {
      "cell_type": "code",
      "source": [
        "# Load the model from Google Drive\n",
        "LSTM_GRU_model = tf.keras.models.load_model('/content/drive/My Drive/LSTM_GRU_model.keras')"
      ],
      "metadata": {
        "colab": {
          "base_uri": "https://localhost:8080/"
        },
        "id": "lYd3aLZyayrs",
        "outputId": "6033c54d-63e2-4c4e-9bdf-be708c5c4b33"
      },
      "execution_count": 12,
      "outputs": [
        {
          "output_type": "stream",
          "name": "stderr",
          "text": [
            "/usr/local/lib/python3.11/dist-packages/keras/src/saving/saving_lib.py:757: UserWarning: Skipping variable loading for optimizer 'rmsprop', because it has 10 variables whereas the saved optimizer has 18 variables. \n",
            "  saveable.load_own_variables(weights_store.get(inner_path))\n"
          ]
        }
      ]
    },
    {
      "cell_type": "code",
      "source": [
        "lstm_GRU_y_val_pred = sc.inverse_transform(LSTM_GRU_model.predict(x_train) )"
      ],
      "metadata": {
        "colab": {
          "base_uri": "https://localhost:8080/"
        },
        "id": "BAhIEZPa-iVm",
        "outputId": "c43bb834-e321-4ca5-da95-0c5588fd9cc5"
      },
      "execution_count": 22,
      "outputs": [
        {
          "output_type": "stream",
          "name": "stdout",
          "text": [
            "\u001b[1m2/2\u001b[0m \u001b[32m━━━━━━━━━━━━━━━━━━━━\u001b[0m\u001b[37m\u001b[0m \u001b[1m0s\u001b[0m 19ms/step \n"
          ]
        }
      ]
    },
    {
      "cell_type": "code",
      "source": [
        "# save and concat predictions to an existing file in google drive\n",
        "\n",
        "import pandas as pd\n",
        "import datetime\n",
        "\n",
        "# Assuming 'lstm_GRU_y_val_pred' is your list of predictions\n",
        "# Create a new DataFrame for the latest prediction\n",
        "timestamp = datetime.datetime.now().strftime(\"%Y-%m-%d %H:%M\")\n",
        "new_prediction_df = pd.DataFrame({'Timestamp': [timestamp], 'Predicted_Price': [lstm_GRU_y_val_pred[-1]]})\n",
        "\n",
        "# Specify the path to the CSV file in Google Drive\n",
        "csv_file_path = '/content/drive/My Drive/lstm_GRU_y_val_pred.csv'\n",
        "\n",
        "# Try to read the existing CSV file\n",
        "try:\n",
        "    # Load existing predictions\n",
        "    existing_predictions_df = pd.read_csv(csv_file_path)\n",
        "\n",
        "    # Append the new prediction\n",
        "    updated_predictions_df = pd.concat([existing_predictions_df,new_prediction_df], ignore_index=True)\n",
        "except FileNotFoundError:\n",
        "    # If the file doesn't exist, create a new DataFrame\n",
        "    updated_predictions_df = new_prediction_df\n",
        "\n",
        "# Save the updated DataFrame back to the CSV file\n",
        "updated_predictions_df.to_csv(csv_file_path, index=False)"
      ],
      "metadata": {
        "id": "lKxP8KyaGHYs"
      },
      "execution_count": 24,
      "outputs": []
    },
    {
      "cell_type": "code",
      "source": [
        "# Save the model to your Google Drive\n",
        "#LSTM_GRU_model.save('/content/drive/My Drive/LSTM_GRU_model.keras')"
      ],
      "metadata": {
        "id": "9SjlDb8_UTMG"
      },
      "execution_count": 16,
      "outputs": []
    }
  ],
  "metadata": {
    "colab": {
      "collapsed_sections": [
        "qVf7itFRQYxX",
        "uy__2JP0Vpao",
        "3X2tVgBWs9jh",
        "rN1uAyl64CAv"
      ],
      "provenance": [],
      "authorship_tag": "ABX9TyNMcGF5Gu/kZQGJMc/Phlm0",
      "include_colab_link": true
    },
    "kernelspec": {
      "display_name": "Python 3",
      "name": "python3"
    },
    "language_info": {
      "name": "python"
    }
  },
  "nbformat": 4,
  "nbformat_minor": 0
}